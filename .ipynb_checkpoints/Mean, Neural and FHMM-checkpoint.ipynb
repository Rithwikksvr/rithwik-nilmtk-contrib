{
 "cells": [
  {
   "cell_type": "code",
   "execution_count": 1,
   "metadata": {},
   "outputs": [
    {
     "name": "stderr",
     "output_type": "stream",
     "text": [
      "/home/nilmtk/anaconda3/envs/nv/lib/python3.6/importlib/_bootstrap.py:219: RuntimeWarning: numpy.ufunc size changed, may indicate binary incompatibility. Expected 216, got 192\n",
      "  return f(*args, **kwds)\n",
      "Using TensorFlow backend.\n",
      "/home/nilmtk/anaconda3/envs/nv/lib/python3.6/importlib/_bootstrap.py:219: RuntimeWarning: numpy.ufunc size changed, may indicate binary incompatibility. Expected 216, got 192\n",
      "  return f(*args, **kwds)\n",
      "/home/nilmtk/anaconda3/envs/nv/lib/python3.6/importlib/_bootstrap.py:219: RuntimeWarning: numpy.ufunc size changed, may indicate binary incompatibility. Expected 192 from C header, got 216 from PyObject\n",
      "  return f(*args, **kwds)\n"
     ]
    }
   ],
   "source": [
    "from api import API"
   ]
  },
  {
   "cell_type": "code",
   "execution_count": 2,
   "metadata": {},
   "outputs": [],
   "source": [
    "redd = {\n",
    "  'power': {\n",
    "    'mains': ['apparent','active'],\n",
    "    'appliance': ['apparent','active']\n",
    "  },\n",
    "  'sample_rate': 60,\n",
    "  'appliances': ['washing machine','fridge'],\n",
    "  'methods': {\n",
    "    'Mean': {},\"CO\":{},\"FHMM_EXACT\":{'num_of_states':2},\n",
    "        'Seq2Point':{'n_epochs':10},\n",
    "       \"Seq2Seq\":{'n_epochs':10},\n",
    "      'RNN':{'n_epochs':10},\"WindowGRU\":{'n_epochs':10},\n",
    "              'DAE':{'n_epochs':10}\n",
    "  },\n",
    "    \n",
    "  'train': {\n",
    "    'datasets': {\n",
    "      'UKDALE': {\n",
    "        'path': '/home/nilmtk/nilmtk-contrib/ukdale.h5',\n",
    "        'buildings': {\n",
    "              1: {\n",
    "                'start_time': '2017-01-05',\n",
    "                'end_time': '2017-03-05'#\n",
    "              },\n",
    "          \n",
    "        }\n",
    "      },\n",
    "        \n",
    "    }\n",
    "  },\n",
    "    \n",
    "  'test': {\n",
    "    'datasets': {\n",
    "      'DRED': {\n",
    "        'path': '/home/nilmtk/nilmtk-contrib/DRED.h5',\n",
    "        'buildings': {\n",
    "              1: {\n",
    "                    'start_time': '2015-09-21',\n",
    "                    'end_time': '2015-10-01'\n",
    "          }\n",
    "        }\n",
    "      },\n",
    "      'REDD': {\n",
    "        'path': '/home/nilmtk/redd.h5',\n",
    "        'buildings': {\n",
    "              1: {\n",
    "                    'start_time': '2011-04-17',\n",
    "                    'end_time': '2011-04-27'\n",
    "          }\n",
    "        }\n",
    "      }\n",
    "    },\n",
    "    'metrics': ['mae', 'rmse']\n",
    "  }\n",
    "}\n",
    "\n"
   ]
  },
  {
   "cell_type": "code",
   "execution_count": 3,
   "metadata": {},
   "outputs": [],
   "source": []
  },
  {
   "cell_type": "code",
   "execution_count": 3,
   "metadata": {},
   "outputs": [
    {
     "name": "stdout",
     "output_type": "stream",
     "text": [
      "Joint Testing for all algorithms\n",
      "Loading data for  DRED  dataset\n",
      "Dropping missing values\n",
      "...............CO disaggregate_chunk running.............\n",
      "Estimating power demand for 'washing machine'\n",
      "Estimating power demand for 'fridge'\n",
      " test New mains shape\n",
      "(14302, 99, 1)\n",
      "New testing\n",
      "Length\n",
      "14302\n",
      "Max input\n",
      "-0.063638888888889 -2.9470972222222223\n",
      "............  mae  ..............\n",
      "                      Mean         CO  FHMM_EXACT  Seq2Point    Seq2Seq\n",
      "washing machine  25.636555  47.536800   19.048719   3.868108   2.971229\n",
      "fridge           43.427475  46.193619   32.348988  14.389033  23.434494\n",
      "............  rmse  ..............\n",
      "                      Mean          CO  FHMM_EXACT  Seq2Point    Seq2Seq\n",
      "washing machine  54.964733  129.010483  105.401093  49.621365  50.340496\n",
      "fridge           45.180870   72.068680   50.871677  26.630045  30.082323\n",
      "Loading data for  REDD  dataset\n",
      "Loading data for meter ElecMeterID(instance=2, building=1, dataset='REDD')     \n",
      "Done loading data all meters for this chunk.\n",
      "Loading data for meter ElecMeterID(instance=20, building=1, dataset='REDD')     \n",
      "Done loading data all meters for this chunk.\n",
      "Dropping missing values\n",
      "...............CO disaggregate_chunk running.............\n",
      "Estimating power demand for 'washing machine'\n",
      "Estimating power demand for 'fridge'\n",
      " test New mains shape\n",
      "(12300, 99, 1)\n",
      "New testing\n",
      "Length\n",
      "12300\n",
      "Max input\n",
      "9.423283 -2.843226\n",
      "............  mae  ..............\n",
      "                      Mean          CO  FHMM_EXACT  Seq2Point    Seq2Seq\n",
      "washing machine  47.244759  172.195831  179.579819  35.607292  22.019796\n",
      "fridge           62.311844   99.297989   95.931847  37.340305  43.716740\n",
      "............  rmse  ..............\n",
      "                       Mean          CO  FHMM_EXACT   Seq2Point     Seq2Seq\n",
      "washing machine  236.715607  450.632812  361.417816  286.872101  166.624023\n",
      "fridge            86.095886  130.917801  109.205582   62.245770   68.961617\n"
     ]
    },
    {
     "data": {
      "text/plain": [
       "<api.API at 0x7f45eb690ef0>"
      ]
     },
     "execution_count": 3,
     "metadata": {},
     "output_type": "execute_result"
    }
   ],
   "source": [
    "API(redd)"
   ]
  },
  {
   "cell_type": "code",
   "execution_count": 4,
   "metadata": {},
   "outputs": [],
   "source": []
  },
  {
   "cell_type": "code",
   "execution_count": 4,
   "metadata": {},
   "outputs": [],
   "source": []
  },
  {
   "cell_type": "code",
   "execution_count": 4,
   "metadata": {},
   "outputs": [],
   "source": []
  },
  {
   "cell_type": "code",
   "execution_count": 4,
   "metadata": {},
   "outputs": [],
   "source": []
  },
  {
   "cell_type": "code",
   "execution_count": 4,
   "metadata": {},
   "outputs": [],
   "source": []
  },
  {
   "cell_type": "code",
   "execution_count": 4,
   "metadata": {},
   "outputs": [],
   "source": []
  },
  {
   "cell_type": "code",
   "execution_count": 4,
   "metadata": {},
   "outputs": [],
   "source": []
  },
  {
   "cell_type": "code",
   "execution_count": 4,
   "metadata": {},
   "outputs": [],
   "source": []
  },
  {
   "cell_type": "code",
   "execution_count": 4,
   "metadata": {},
   "outputs": [],
   "source": []
  },
  {
   "cell_type": "code",
   "execution_count": 4,
   "metadata": {},
   "outputs": [],
   "source": []
  },
  {
   "cell_type": "code",
   "execution_count": 4,
   "metadata": {},
   "outputs": [],
   "source": [
    "\n"
   ]
  },
  {
   "cell_type": "code",
   "execution_count": 4,
   "metadata": {},
   "outputs": [],
   "source": []
  },
  {
   "cell_type": "code",
   "execution_count": 4,
   "metadata": {},
   "outputs": [],
   "source": []
  }
 ],
 "metadata": {
  "kernelspec": {
   "display_name": "Python 3",
   "language": "python",
   "name": "python3"
  },
  "language_info": {
   "codemirror_mode": {
    "name": "ipython",
    "version": 3
   },
   "file_extension": ".py",
   "mimetype": "text/x-python",
   "name": "python",
   "nbconvert_exporter": "python",
   "pygments_lexer": "ipython3",
   "version": "3.6.9"
  }
 },
 "nbformat": 4,
 "nbformat_minor": 1
}
